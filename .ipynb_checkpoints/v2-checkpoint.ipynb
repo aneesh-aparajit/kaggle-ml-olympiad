{
 "cells": [
  {
   "cell_type": "code",
   "execution_count": 1,
   "id": "b0ee0334",
   "metadata": {},
   "outputs": [
    {
     "name": "stdout",
     "output_type": "stream",
     "text": [
      "Python implementation: CPython\n",
      "Python version       : 3.9.13\n",
      "IPython version      : 7.28.0\n",
      "\n",
      "pandas    : 1.5.3\n",
      "numpy     : 1.24.1\n",
      "matplotlib: 3.6.3\n",
      "seaborn   : 0.12.2\n",
      "plotly    : 5.9.0\n",
      "sklearn   : 1.1.1\n",
      "\n"
     ]
    }
   ],
   "source": [
    "import pandas as pd\n",
    "import numpy as np\n",
    "from scipy import stats\n",
    "\n",
    "import matplotlib.pyplot as plt\n",
    "import seaborn as sns\n",
    "import plotly.express as px\n",
    "\n",
    "from sklearn import model_selection\n",
    "from sklearn import metrics\n",
    "\n",
    "%load_ext watermark\n",
    "%watermark -v -p pandas,numpy,matplotlib,seaborn,plotly,sklearn"
   ]
  },
  {
   "cell_type": "code",
   "execution_count": 2,
   "id": "50cfde32",
   "metadata": {},
   "outputs": [],
   "source": [
    "df_train = pd.read_csv('./kaggle/input/ml-olympiad-waterqualityprediction/train.csv')\n",
    "df_test = pd.read_csv('./kaggle/input/ml-olympiad-waterqualityprediction/test.csv')\n",
    "sample_sub = pd.read_csv('./kaggle/input/ml-olympiad-waterqualityprediction/sample_submission.csv')"
   ]
  },
  {
   "cell_type": "code",
   "execution_count": 3,
   "id": "53dfe024",
   "metadata": {},
   "outputs": [],
   "source": [
    "df_train.drop('id', axis=1, inplace=True)\n",
    "df_test.drop('id', axis=1, inplace=True)"
   ]
  },
  {
   "cell_type": "code",
   "execution_count": 4,
   "id": "2c6b80d1",
   "metadata": {},
   "outputs": [
    {
     "data": {
      "text/html": [
       "<div>\n",
       "<style scoped>\n",
       "    .dataframe tbody tr th:only-of-type {\n",
       "        vertical-align: middle;\n",
       "    }\n",
       "\n",
       "    .dataframe tbody tr th {\n",
       "        vertical-align: top;\n",
       "    }\n",
       "\n",
       "    .dataframe thead th {\n",
       "        text-align: right;\n",
       "    }\n",
       "</style>\n",
       "<table border=\"1\" class=\"dataframe\">\n",
       "  <thead>\n",
       "    <tr style=\"text-align: right;\">\n",
       "      <th></th>\n",
       "      <th>count</th>\n",
       "      <th>mean</th>\n",
       "      <th>std</th>\n",
       "      <th>min</th>\n",
       "      <th>25%</th>\n",
       "      <th>50%</th>\n",
       "      <th>75%</th>\n",
       "      <th>max</th>\n",
       "    </tr>\n",
       "  </thead>\n",
       "  <tbody>\n",
       "    <tr>\n",
       "      <th>featureA</th>\n",
       "      <td>12936.0</td>\n",
       "      <td>1.165592e+05</td>\n",
       "      <td>1.465020e+05</td>\n",
       "      <td>-8.374975e+04</td>\n",
       "      <td>5.674475e+04</td>\n",
       "      <td>7.580838e+04</td>\n",
       "      <td>7.580838e+04</td>\n",
       "      <td>5.822110e+05</td>\n",
       "    </tr>\n",
       "    <tr>\n",
       "      <th>featureB</th>\n",
       "      <td>12936.0</td>\n",
       "      <td>4.526278e+00</td>\n",
       "      <td>3.180817e+00</td>\n",
       "      <td>1.064468e+00</td>\n",
       "      <td>4.363288e+00</td>\n",
       "      <td>4.457840e+00</td>\n",
       "      <td>4.457840e+00</td>\n",
       "      <td>2.598219e+01</td>\n",
       "    </tr>\n",
       "    <tr>\n",
       "      <th>featureC</th>\n",
       "      <td>12936.0</td>\n",
       "      <td>1.329723e-01</td>\n",
       "      <td>2.641483e-01</td>\n",
       "      <td>0.000000e+00</td>\n",
       "      <td>5.717646e-03</td>\n",
       "      <td>5.717646e-03</td>\n",
       "      <td>3.240702e-02</td>\n",
       "      <td>7.291935e-01</td>\n",
       "    </tr>\n",
       "    <tr>\n",
       "      <th>featureD</th>\n",
       "      <td>12936.0</td>\n",
       "      <td>1.503411e+02</td>\n",
       "      <td>7.509367e+01</td>\n",
       "      <td>1.814855e+01</td>\n",
       "      <td>1.222994e+02</td>\n",
       "      <td>1.222994e+02</td>\n",
       "      <td>1.379766e+02</td>\n",
       "      <td>5.114759e+02</td>\n",
       "    </tr>\n",
       "    <tr>\n",
       "      <th>featureE</th>\n",
       "      <td>12936.0</td>\n",
       "      <td>2.644618e+01</td>\n",
       "      <td>6.665619e+00</td>\n",
       "      <td>3.875411e+00</td>\n",
       "      <td>2.462550e+01</td>\n",
       "      <td>3.083191e+01</td>\n",
       "      <td>3.083191e+01</td>\n",
       "      <td>3.876723e+01</td>\n",
       "    </tr>\n",
       "    <tr>\n",
       "      <th>featureF</th>\n",
       "      <td>13000.0</td>\n",
       "      <td>2.175385e-01</td>\n",
       "      <td>2.380893e+00</td>\n",
       "      <td>0.000000e+00</td>\n",
       "      <td>0.000000e+00</td>\n",
       "      <td>0.000000e+00</td>\n",
       "      <td>0.000000e+00</td>\n",
       "      <td>1.000000e+02</td>\n",
       "    </tr>\n",
       "    <tr>\n",
       "      <th>featureG</th>\n",
       "      <td>12936.0</td>\n",
       "      <td>2.335365e+12</td>\n",
       "      <td>8.937298e+11</td>\n",
       "      <td>2.887150e+10</td>\n",
       "      <td>1.464509e+12</td>\n",
       "      <td>2.806036e+12</td>\n",
       "      <td>2.806036e+12</td>\n",
       "      <td>3.781699e+12</td>\n",
       "    </tr>\n",
       "    <tr>\n",
       "      <th>featureH</th>\n",
       "      <td>12936.0</td>\n",
       "      <td>1.504719e+01</td>\n",
       "      <td>3.200037e+01</td>\n",
       "      <td>0.000000e+00</td>\n",
       "      <td>0.000000e+00</td>\n",
       "      <td>0.000000e+00</td>\n",
       "      <td>0.000000e+00</td>\n",
       "      <td>8.715892e+01</td>\n",
       "    </tr>\n",
       "    <tr>\n",
       "      <th>featureI</th>\n",
       "      <td>12936.0</td>\n",
       "      <td>5.020210e+07</td>\n",
       "      <td>2.412360e+07</td>\n",
       "      <td>5.300380e+05</td>\n",
       "      <td>2.586796e+07</td>\n",
       "      <td>5.094169e+07</td>\n",
       "      <td>7.117635e+07</td>\n",
       "      <td>7.117635e+07</td>\n",
       "    </tr>\n",
       "    <tr>\n",
       "      <th>compositionA</th>\n",
       "      <td>12936.0</td>\n",
       "      <td>1.649227e-01</td>\n",
       "      <td>7.432285e-01</td>\n",
       "      <td>0.000000e+00</td>\n",
       "      <td>0.000000e+00</td>\n",
       "      <td>0.000000e+00</td>\n",
       "      <td>0.000000e+00</td>\n",
       "      <td>4.000000e+00</td>\n",
       "    </tr>\n",
       "    <tr>\n",
       "      <th>compositionB</th>\n",
       "      <td>12936.0</td>\n",
       "      <td>7.708228e+00</td>\n",
       "      <td>3.208687e+00</td>\n",
       "      <td>2.200000e+00</td>\n",
       "      <td>5.830000e+00</td>\n",
       "      <td>1.000000e+01</td>\n",
       "      <td>1.000000e+01</td>\n",
       "      <td>2.140000e+01</td>\n",
       "    </tr>\n",
       "    <tr>\n",
       "      <th>compositionC</th>\n",
       "      <td>12936.0</td>\n",
       "      <td>2.362752e+01</td>\n",
       "      <td>6.433507e+00</td>\n",
       "      <td>0.000000e+00</td>\n",
       "      <td>1.770000e+01</td>\n",
       "      <td>2.600000e+01</td>\n",
       "      <td>2.600000e+01</td>\n",
       "      <td>4.405000e+01</td>\n",
       "    </tr>\n",
       "    <tr>\n",
       "      <th>compositionD</th>\n",
       "      <td>12936.0</td>\n",
       "      <td>1.296887e+00</td>\n",
       "      <td>3.724154e+00</td>\n",
       "      <td>0.000000e+00</td>\n",
       "      <td>0.000000e+00</td>\n",
       "      <td>0.000000e+00</td>\n",
       "      <td>1.940000e+00</td>\n",
       "      <td>3.046000e+01</td>\n",
       "    </tr>\n",
       "    <tr>\n",
       "      <th>compositionE</th>\n",
       "      <td>12936.0</td>\n",
       "      <td>3.203812e+01</td>\n",
       "      <td>1.109817e+01</td>\n",
       "      <td>1.278000e+01</td>\n",
       "      <td>3.000000e+01</td>\n",
       "      <td>3.200000e+01</td>\n",
       "      <td>3.200000e+01</td>\n",
       "      <td>6.230000e+01</td>\n",
       "    </tr>\n",
       "    <tr>\n",
       "      <th>compositionF</th>\n",
       "      <td>12936.0</td>\n",
       "      <td>3.178698e+00</td>\n",
       "      <td>1.098585e+00</td>\n",
       "      <td>1.380000e+00</td>\n",
       "      <td>3.000000e+00</td>\n",
       "      <td>3.000000e+00</td>\n",
       "      <td>3.000000e+00</td>\n",
       "      <td>9.200000e+00</td>\n",
       "    </tr>\n",
       "    <tr>\n",
       "      <th>compositionG</th>\n",
       "      <td>12936.0</td>\n",
       "      <td>2.024316e+00</td>\n",
       "      <td>2.964965e+00</td>\n",
       "      <td>0.000000e+00</td>\n",
       "      <td>0.000000e+00</td>\n",
       "      <td>0.000000e+00</td>\n",
       "      <td>2.000000e+00</td>\n",
       "      <td>7.900000e+00</td>\n",
       "    </tr>\n",
       "    <tr>\n",
       "      <th>compositionH</th>\n",
       "      <td>12936.0</td>\n",
       "      <td>1.121470e+01</td>\n",
       "      <td>4.860118e+00</td>\n",
       "      <td>1.450000e+00</td>\n",
       "      <td>9.000000e+00</td>\n",
       "      <td>9.000000e+00</td>\n",
       "      <td>1.233000e+01</td>\n",
       "      <td>2.020000e+01</td>\n",
       "    </tr>\n",
       "    <tr>\n",
       "      <th>compositionI</th>\n",
       "      <td>12936.0</td>\n",
       "      <td>2.338609e+01</td>\n",
       "      <td>5.937944e+00</td>\n",
       "      <td>7.600000e-01</td>\n",
       "      <td>2.226000e+01</td>\n",
       "      <td>2.226000e+01</td>\n",
       "      <td>2.725000e+01</td>\n",
       "      <td>4.783000e+01</td>\n",
       "    </tr>\n",
       "    <tr>\n",
       "      <th>compositionJ</th>\n",
       "      <td>12936.0</td>\n",
       "      <td>1.894259e+01</td>\n",
       "      <td>4.096265e+00</td>\n",
       "      <td>6.100000e+00</td>\n",
       "      <td>1.890000e+01</td>\n",
       "      <td>2.000000e+01</td>\n",
       "      <td>2.000000e+01</td>\n",
       "      <td>3.783000e+01</td>\n",
       "    </tr>\n",
       "    <tr>\n",
       "      <th>result</th>\n",
       "      <td>13000.0</td>\n",
       "      <td>1.442228e-01</td>\n",
       "      <td>2.240620e-01</td>\n",
       "      <td>0.000000e+00</td>\n",
       "      <td>3.875360e-03</td>\n",
       "      <td>2.790881e-02</td>\n",
       "      <td>1.686778e-01</td>\n",
       "      <td>1.000000e+00</td>\n",
       "    </tr>\n",
       "  </tbody>\n",
       "</table>\n",
       "</div>"
      ],
      "text/plain": [
       "                count          mean           std           min           25%  \\\n",
       "featureA      12936.0  1.165592e+05  1.465020e+05 -8.374975e+04  5.674475e+04   \n",
       "featureB      12936.0  4.526278e+00  3.180817e+00  1.064468e+00  4.363288e+00   \n",
       "featureC      12936.0  1.329723e-01  2.641483e-01  0.000000e+00  5.717646e-03   \n",
       "featureD      12936.0  1.503411e+02  7.509367e+01  1.814855e+01  1.222994e+02   \n",
       "featureE      12936.0  2.644618e+01  6.665619e+00  3.875411e+00  2.462550e+01   \n",
       "featureF      13000.0  2.175385e-01  2.380893e+00  0.000000e+00  0.000000e+00   \n",
       "featureG      12936.0  2.335365e+12  8.937298e+11  2.887150e+10  1.464509e+12   \n",
       "featureH      12936.0  1.504719e+01  3.200037e+01  0.000000e+00  0.000000e+00   \n",
       "featureI      12936.0  5.020210e+07  2.412360e+07  5.300380e+05  2.586796e+07   \n",
       "compositionA  12936.0  1.649227e-01  7.432285e-01  0.000000e+00  0.000000e+00   \n",
       "compositionB  12936.0  7.708228e+00  3.208687e+00  2.200000e+00  5.830000e+00   \n",
       "compositionC  12936.0  2.362752e+01  6.433507e+00  0.000000e+00  1.770000e+01   \n",
       "compositionD  12936.0  1.296887e+00  3.724154e+00  0.000000e+00  0.000000e+00   \n",
       "compositionE  12936.0  3.203812e+01  1.109817e+01  1.278000e+01  3.000000e+01   \n",
       "compositionF  12936.0  3.178698e+00  1.098585e+00  1.380000e+00  3.000000e+00   \n",
       "compositionG  12936.0  2.024316e+00  2.964965e+00  0.000000e+00  0.000000e+00   \n",
       "compositionH  12936.0  1.121470e+01  4.860118e+00  1.450000e+00  9.000000e+00   \n",
       "compositionI  12936.0  2.338609e+01  5.937944e+00  7.600000e-01  2.226000e+01   \n",
       "compositionJ  12936.0  1.894259e+01  4.096265e+00  6.100000e+00  1.890000e+01   \n",
       "result        13000.0  1.442228e-01  2.240620e-01  0.000000e+00  3.875360e-03   \n",
       "\n",
       "                       50%           75%           max  \n",
       "featureA      7.580838e+04  7.580838e+04  5.822110e+05  \n",
       "featureB      4.457840e+00  4.457840e+00  2.598219e+01  \n",
       "featureC      5.717646e-03  3.240702e-02  7.291935e-01  \n",
       "featureD      1.222994e+02  1.379766e+02  5.114759e+02  \n",
       "featureE      3.083191e+01  3.083191e+01  3.876723e+01  \n",
       "featureF      0.000000e+00  0.000000e+00  1.000000e+02  \n",
       "featureG      2.806036e+12  2.806036e+12  3.781699e+12  \n",
       "featureH      0.000000e+00  0.000000e+00  8.715892e+01  \n",
       "featureI      5.094169e+07  7.117635e+07  7.117635e+07  \n",
       "compositionA  0.000000e+00  0.000000e+00  4.000000e+00  \n",
       "compositionB  1.000000e+01  1.000000e+01  2.140000e+01  \n",
       "compositionC  2.600000e+01  2.600000e+01  4.405000e+01  \n",
       "compositionD  0.000000e+00  1.940000e+00  3.046000e+01  \n",
       "compositionE  3.200000e+01  3.200000e+01  6.230000e+01  \n",
       "compositionF  3.000000e+00  3.000000e+00  9.200000e+00  \n",
       "compositionG  0.000000e+00  2.000000e+00  7.900000e+00  \n",
       "compositionH  9.000000e+00  1.233000e+01  2.020000e+01  \n",
       "compositionI  2.226000e+01  2.725000e+01  4.783000e+01  \n",
       "compositionJ  2.000000e+01  2.000000e+01  3.783000e+01  \n",
       "result        2.790881e-02  1.686778e-01  1.000000e+00  "
      ]
     },
     "execution_count": 4,
     "metadata": {},
     "output_type": "execute_result"
    }
   ],
   "source": [
    "df_train.describe().T"
   ]
  },
  {
   "cell_type": "code",
   "execution_count": 5,
   "id": "1cbe17d2",
   "metadata": {},
   "outputs": [],
   "source": [
    "def plot_distributions_numerical(df):\n",
    "    fig, axs = plt.subplots(len(numerical_cols) //2 + 1, 2, figsize=(12, 18))\n",
    "    for ix, ax in enumerate(axs.flatten()):\n",
    "        try:\n",
    "            ax.set_title(f'# of unique: {df[numerical_cols[ix]].nunique()}, skew: {df[numerical_cols[ix]].skew():.3f}')\n",
    "            sns.histplot(data=df, x=numerical_cols[ix], ax=ax)\n",
    "        except:\n",
    "            break\n",
    "    plt.tight_layout()\n",
    "    plt.show()\n",
    "    \n",
    "def plot_distributions_categoric(df):\n",
    "    fig, axs = plt.subplots(len(categoric_cols) //2 + 1, 2, figsize=(12, 18))\n",
    "    for ix, ax in enumerate(axs.flatten()):\n",
    "        try:\n",
    "            ax.set_title(f'# of unique: {df[categoric_cols[ix]].nunique()}')\n",
    "            sns.countplot(data=df, x=categoric_cols[ix], ax=ax)\n",
    "        except:\n",
    "            break\n",
    "    plt.tight_layout()\n",
    "    plt.show()"
   ]
  },
  {
   "cell_type": "code",
   "execution_count": 6,
   "id": "d9ca5721",
   "metadata": {},
   "outputs": [],
   "source": [
    "from sklearn.preprocessing import RobustScaler"
   ]
  },
  {
   "cell_type": "code",
   "execution_count": 7,
   "id": "537d39fb",
   "metadata": {},
   "outputs": [],
   "source": [
    "numerical_cols = df_train.drop('result', axis=1).select_dtypes(np.number).columns.to_list()\n",
    "categoric_cols = df_train.drop('result', axis=1).select_dtypes('object').columns.to_list()"
   ]
  },
  {
   "cell_type": "code",
   "execution_count": 8,
   "id": "18761fe1",
   "metadata": {},
   "outputs": [],
   "source": [
    "scalar = RobustScaler()\n",
    "scalar.fit(df_train[numerical_cols])\n",
    "df_train[numerical_cols] = scalar.transform(df_train[numerical_cols])"
   ]
  },
  {
   "cell_type": "code",
   "execution_count": 9,
   "id": "0b93cd43",
   "metadata": {},
   "outputs": [],
   "source": [
    "mapping_dict = {}\n",
    "\n",
    "for col in categoric_cols:\n",
    "    mapping_dict[col] = df_train[col].value_counts()[:50].index.to_list()"
   ]
  },
  {
   "cell_type": "code",
   "execution_count": 10,
   "id": "5aa94dad",
   "metadata": {},
   "outputs": [],
   "source": [
    "for col in categoric_cols:\n",
    "    df_train[col] = df_train[col].apply(lambda x: x if x in mapping_dict[col] else 'unk')"
   ]
  },
  {
   "cell_type": "code",
   "execution_count": 11,
   "id": "d0656c81",
   "metadata": {},
   "outputs": [
    {
     "data": {
      "text/plain": [
       "{'featureA': 2.137624038777999,\n",
       " 'featureB': 0.723802786075369,\n",
       " 'featureC': 4.767990467791176,\n",
       " 'featureD': 1.7886991614253678,\n",
       " 'featureE': -0.7066451323952747,\n",
       " 'featureF': 0.21753846153846154,\n",
       " 'featureG': -0.35084770054678754,\n",
       " 'featureH': 15.047185912375056,\n",
       " 'featureI': -0.01632358483729607,\n",
       " 'compositionA': 0.16492269635126777,\n",
       " 'compositionB': -0.5495855634601781,\n",
       " 'compositionC': -0.28584067252311657,\n",
       " 'compositionD': 0.6684984443636874,\n",
       " 'compositionE': 0.019061147186147206,\n",
       " 'compositionF': 0.17869820655534943,\n",
       " 'compositionG': 1.01215793135436,\n",
       " 'compositionH': 0.6650750936465222,\n",
       " 'compositionI': 0.22566905610850635,\n",
       " 'compositionJ': -0.9612786023500299}"
      ]
     },
     "execution_count": 11,
     "metadata": {},
     "output_type": "execute_result"
    }
   ],
   "source": [
    "mean_dict = {}\n",
    "\n",
    "for col in numerical_cols:\n",
    "    mean_dict[col] = df_train[col].mean()\n",
    "    df_train[col] = df_train[col].fillna(df_train[col].mean())\n",
    "    \n",
    "mean_dict"
   ]
  },
  {
   "cell_type": "code",
   "execution_count": 12,
   "id": "f0475248",
   "metadata": {},
   "outputs": [],
   "source": [
    "categoric_cols = df_train.drop('result', axis=1).select_dtypes('object').columns.to_list()"
   ]
  },
  {
   "cell_type": "code",
   "execution_count": 13,
   "id": "0f3f5a38",
   "metadata": {},
   "outputs": [
    {
     "data": {
      "text/plain": [
       "array([[ 0.        ],\n",
       "       [ 0.        ],\n",
       "       [ 0.        ],\n",
       "       ...,\n",
       "       [ 0.        ],\n",
       "       [16.20909091],\n",
       "       [16.20909091]])"
      ]
     },
     "execution_count": 13,
     "metadata": {},
     "output_type": "execute_result"
    }
   ],
   "source": [
    "np.array(df_train[col].values).reshape(-1, 1)"
   ]
  },
  {
   "cell_type": "code",
   "execution_count": 14,
   "id": "372bd745",
   "metadata": {},
   "outputs": [],
   "source": [
    "encoder_dict = {}\n",
    "\n",
    "from sklearn.preprocessing import OrdinalEncoder\n",
    "\n",
    "df_train.drop(['categoryB', 'categoryD', 'categoryF'], inplace=True, axis=1)\n",
    "categoric_cols = df_train.drop('result', axis=1).select_dtypes('object').columns.to_list()\n",
    "\n",
    "for col in categoric_cols:\n",
    "    enc = OrdinalEncoder(handle_unknown='use_encoded_value', unknown_value=-1)\n",
    "    df_train[col] = enc.fit_transform(np.array(df_train[col].values).reshape(-1, 1))\n",
    "    encoder_dict[col] = enc"
   ]
  },
  {
   "cell_type": "code",
   "execution_count": 15,
   "id": "ec3a20ad",
   "metadata": {},
   "outputs": [],
   "source": [
    "X_train, X_test, y_train, y_test = model_selection.train_test_split(df_train.drop('result', axis=1), \n",
    "                                                                    df_train['result'], test_size=0.2)"
   ]
  },
  {
   "cell_type": "code",
   "execution_count": 16,
   "id": "4d211d0d",
   "metadata": {},
   "outputs": [],
   "source": [
    "def RMLSE(pred, true):\n",
    "    return np.sqrt(np.mean((np.log(pred + 1) - np.log(true + 1))**2))"
   ]
  },
  {
   "cell_type": "code",
   "execution_count": 17,
   "id": "6e50d714",
   "metadata": {},
   "outputs": [],
   "source": [
    "from sklearn.model_selection import GridSearchCV"
   ]
  },
  {
   "cell_type": "code",
   "execution_count": 18,
   "id": "174e587a",
   "metadata": {},
   "outputs": [],
   "source": [
    "from sklearn import linear_model\n",
    "from sklearn import ensemble\n",
    "from xgboost import XGBRegressor, XGBRFRegressor"
   ]
  },
  {
   "cell_type": "code",
   "execution_count": 19,
   "id": "25d45d37",
   "metadata": {},
   "outputs": [],
   "source": [
    "rmlse_metrics = metrics.make_scorer(RMLSE, greater_is_better=False)"
   ]
  },
  {
   "cell_type": "code",
   "execution_count": 22,
   "id": "c68c6306",
   "metadata": {},
   "outputs": [],
   "source": [
    "param_grid = {\n",
    "    'n_estimators': [100, 200, 300, 400, 500],\n",
    "    'criterion': [\"squared_error\", \"absolute_error\", \"poisson\"],\n",
    "    'max_depth': [5, 10, 15, 20],\n",
    "#     'min_sample_split': [2, 3, 4, 5],\n",
    "}\n",
    "\n",
    "model = ensemble.RandomForestRegressor()\n",
    "\n",
    "reg = GridSearchCV(estimator=model, param_grid=param_grid, n_jobs=-1, cv=5,\n",
    "                   scoring=rmlse_metrics, verbose=10)"
   ]
  },
  {
   "cell_type": "code",
   "execution_count": 23,
   "id": "b0994967",
   "metadata": {},
   "outputs": [
    {
     "name": "stdout",
     "output_type": "stream",
     "text": [
      "Fitting 5 folds for each of 60 candidates, totalling 300 fits\n"
     ]
    },
    {
     "ename": "KeyboardInterrupt",
     "evalue": "",
     "output_type": "error",
     "traceback": [
      "\u001b[0;31m---------------------------------------------------------------------------\u001b[0m",
      "\u001b[0;31mKeyboardInterrupt\u001b[0m                         Traceback (most recent call last)",
      "\u001b[0;32m/var/folders/9c/hg99j16578569gfzb3w5bzdh0000gn/T/ipykernel_2344/2412499885.py\u001b[0m in \u001b[0;36m<module>\u001b[0;34m\u001b[0m\n\u001b[0;32m----> 1\u001b[0;31m \u001b[0mreg\u001b[0m\u001b[0;34m.\u001b[0m\u001b[0mfit\u001b[0m\u001b[0;34m(\u001b[0m\u001b[0mX_train\u001b[0m\u001b[0;34m,\u001b[0m \u001b[0my_train\u001b[0m\u001b[0;34m)\u001b[0m\u001b[0;34m\u001b[0m\u001b[0;34m\u001b[0m\u001b[0m\n\u001b[0m",
      "\u001b[0;32m~/anaconda3/lib/python3.9/site-packages/sklearn/model_selection/_search.py\u001b[0m in \u001b[0;36mfit\u001b[0;34m(self, X, y, groups, **fit_params)\u001b[0m\n\u001b[1;32m    873\u001b[0m                 \u001b[0;32mreturn\u001b[0m \u001b[0mresults\u001b[0m\u001b[0;34m\u001b[0m\u001b[0;34m\u001b[0m\u001b[0m\n\u001b[1;32m    874\u001b[0m \u001b[0;34m\u001b[0m\u001b[0m\n\u001b[0;32m--> 875\u001b[0;31m             \u001b[0mself\u001b[0m\u001b[0;34m.\u001b[0m\u001b[0m_run_search\u001b[0m\u001b[0;34m(\u001b[0m\u001b[0mevaluate_candidates\u001b[0m\u001b[0;34m)\u001b[0m\u001b[0;34m\u001b[0m\u001b[0;34m\u001b[0m\u001b[0m\n\u001b[0m\u001b[1;32m    876\u001b[0m \u001b[0;34m\u001b[0m\u001b[0m\n\u001b[1;32m    877\u001b[0m             \u001b[0;31m# multimetric is determined here because in the case of a callable\u001b[0m\u001b[0;34m\u001b[0m\u001b[0;34m\u001b[0m\u001b[0m\n",
      "\u001b[0;32m~/anaconda3/lib/python3.9/site-packages/sklearn/model_selection/_search.py\u001b[0m in \u001b[0;36m_run_search\u001b[0;34m(self, evaluate_candidates)\u001b[0m\n\u001b[1;32m   1373\u001b[0m     \u001b[0;32mdef\u001b[0m \u001b[0m_run_search\u001b[0m\u001b[0;34m(\u001b[0m\u001b[0mself\u001b[0m\u001b[0;34m,\u001b[0m \u001b[0mevaluate_candidates\u001b[0m\u001b[0;34m)\u001b[0m\u001b[0;34m:\u001b[0m\u001b[0;34m\u001b[0m\u001b[0;34m\u001b[0m\u001b[0m\n\u001b[1;32m   1374\u001b[0m         \u001b[0;34m\"\"\"Search all candidates in param_grid\"\"\"\u001b[0m\u001b[0;34m\u001b[0m\u001b[0;34m\u001b[0m\u001b[0m\n\u001b[0;32m-> 1375\u001b[0;31m         \u001b[0mevaluate_candidates\u001b[0m\u001b[0;34m(\u001b[0m\u001b[0mParameterGrid\u001b[0m\u001b[0;34m(\u001b[0m\u001b[0mself\u001b[0m\u001b[0;34m.\u001b[0m\u001b[0mparam_grid\u001b[0m\u001b[0;34m)\u001b[0m\u001b[0;34m)\u001b[0m\u001b[0;34m\u001b[0m\u001b[0;34m\u001b[0m\u001b[0m\n\u001b[0m\u001b[1;32m   1376\u001b[0m \u001b[0;34m\u001b[0m\u001b[0m\n\u001b[1;32m   1377\u001b[0m \u001b[0;34m\u001b[0m\u001b[0m\n",
      "\u001b[0;32m~/anaconda3/lib/python3.9/site-packages/sklearn/model_selection/_search.py\u001b[0m in \u001b[0;36mevaluate_candidates\u001b[0;34m(candidate_params, cv, more_results)\u001b[0m\n\u001b[1;32m    820\u001b[0m                     )\n\u001b[1;32m    821\u001b[0m \u001b[0;34m\u001b[0m\u001b[0m\n\u001b[0;32m--> 822\u001b[0;31m                 out = parallel(\n\u001b[0m\u001b[1;32m    823\u001b[0m                     delayed(_fit_and_score)(\n\u001b[1;32m    824\u001b[0m                         \u001b[0mclone\u001b[0m\u001b[0;34m(\u001b[0m\u001b[0mbase_estimator\u001b[0m\u001b[0;34m)\u001b[0m\u001b[0;34m,\u001b[0m\u001b[0;34m\u001b[0m\u001b[0;34m\u001b[0m\u001b[0m\n",
      "\u001b[0;32m~/anaconda3/lib/python3.9/site-packages/joblib/parallel.py\u001b[0m in \u001b[0;36m__call__\u001b[0;34m(self, iterable)\u001b[0m\n\u001b[1;32m   1096\u001b[0m \u001b[0;34m\u001b[0m\u001b[0m\n\u001b[1;32m   1097\u001b[0m             \u001b[0;32mwith\u001b[0m \u001b[0mself\u001b[0m\u001b[0;34m.\u001b[0m\u001b[0m_backend\u001b[0m\u001b[0;34m.\u001b[0m\u001b[0mretrieval_context\u001b[0m\u001b[0;34m(\u001b[0m\u001b[0;34m)\u001b[0m\u001b[0;34m:\u001b[0m\u001b[0;34m\u001b[0m\u001b[0;34m\u001b[0m\u001b[0m\n\u001b[0;32m-> 1098\u001b[0;31m                 \u001b[0mself\u001b[0m\u001b[0;34m.\u001b[0m\u001b[0mretrieve\u001b[0m\u001b[0;34m(\u001b[0m\u001b[0;34m)\u001b[0m\u001b[0;34m\u001b[0m\u001b[0;34m\u001b[0m\u001b[0m\n\u001b[0m\u001b[1;32m   1099\u001b[0m             \u001b[0;31m# Make sure that we get a last message telling us we are done\u001b[0m\u001b[0;34m\u001b[0m\u001b[0;34m\u001b[0m\u001b[0m\n\u001b[1;32m   1100\u001b[0m             \u001b[0melapsed_time\u001b[0m \u001b[0;34m=\u001b[0m \u001b[0mtime\u001b[0m\u001b[0;34m.\u001b[0m\u001b[0mtime\u001b[0m\u001b[0;34m(\u001b[0m\u001b[0;34m)\u001b[0m \u001b[0;34m-\u001b[0m \u001b[0mself\u001b[0m\u001b[0;34m.\u001b[0m\u001b[0m_start_time\u001b[0m\u001b[0;34m\u001b[0m\u001b[0;34m\u001b[0m\u001b[0m\n",
      "\u001b[0;32m~/anaconda3/lib/python3.9/site-packages/joblib/parallel.py\u001b[0m in \u001b[0;36mretrieve\u001b[0;34m(self)\u001b[0m\n\u001b[1;32m    973\u001b[0m             \u001b[0;32mtry\u001b[0m\u001b[0;34m:\u001b[0m\u001b[0;34m\u001b[0m\u001b[0;34m\u001b[0m\u001b[0m\n\u001b[1;32m    974\u001b[0m                 \u001b[0;32mif\u001b[0m \u001b[0mgetattr\u001b[0m\u001b[0;34m(\u001b[0m\u001b[0mself\u001b[0m\u001b[0;34m.\u001b[0m\u001b[0m_backend\u001b[0m\u001b[0;34m,\u001b[0m \u001b[0;34m'supports_timeout'\u001b[0m\u001b[0;34m,\u001b[0m \u001b[0;32mFalse\u001b[0m\u001b[0;34m)\u001b[0m\u001b[0;34m:\u001b[0m\u001b[0;34m\u001b[0m\u001b[0;34m\u001b[0m\u001b[0m\n\u001b[0;32m--> 975\u001b[0;31m                     \u001b[0mself\u001b[0m\u001b[0;34m.\u001b[0m\u001b[0m_output\u001b[0m\u001b[0;34m.\u001b[0m\u001b[0mextend\u001b[0m\u001b[0;34m(\u001b[0m\u001b[0mjob\u001b[0m\u001b[0;34m.\u001b[0m\u001b[0mget\u001b[0m\u001b[0;34m(\u001b[0m\u001b[0mtimeout\u001b[0m\u001b[0;34m=\u001b[0m\u001b[0mself\u001b[0m\u001b[0;34m.\u001b[0m\u001b[0mtimeout\u001b[0m\u001b[0;34m)\u001b[0m\u001b[0;34m)\u001b[0m\u001b[0;34m\u001b[0m\u001b[0;34m\u001b[0m\u001b[0m\n\u001b[0m\u001b[1;32m    976\u001b[0m                 \u001b[0;32melse\u001b[0m\u001b[0;34m:\u001b[0m\u001b[0;34m\u001b[0m\u001b[0;34m\u001b[0m\u001b[0m\n\u001b[1;32m    977\u001b[0m                     \u001b[0mself\u001b[0m\u001b[0;34m.\u001b[0m\u001b[0m_output\u001b[0m\u001b[0;34m.\u001b[0m\u001b[0mextend\u001b[0m\u001b[0;34m(\u001b[0m\u001b[0mjob\u001b[0m\u001b[0;34m.\u001b[0m\u001b[0mget\u001b[0m\u001b[0;34m(\u001b[0m\u001b[0;34m)\u001b[0m\u001b[0;34m)\u001b[0m\u001b[0;34m\u001b[0m\u001b[0;34m\u001b[0m\u001b[0m\n",
      "\u001b[0;32m~/anaconda3/lib/python3.9/site-packages/joblib/_parallel_backends.py\u001b[0m in \u001b[0;36mwrap_future_result\u001b[0;34m(future, timeout)\u001b[0m\n\u001b[1;32m    565\u001b[0m         AsyncResults.get from multiprocessing.\"\"\"\n\u001b[1;32m    566\u001b[0m         \u001b[0;32mtry\u001b[0m\u001b[0;34m:\u001b[0m\u001b[0;34m\u001b[0m\u001b[0;34m\u001b[0m\u001b[0m\n\u001b[0;32m--> 567\u001b[0;31m             \u001b[0;32mreturn\u001b[0m \u001b[0mfuture\u001b[0m\u001b[0;34m.\u001b[0m\u001b[0mresult\u001b[0m\u001b[0;34m(\u001b[0m\u001b[0mtimeout\u001b[0m\u001b[0;34m=\u001b[0m\u001b[0mtimeout\u001b[0m\u001b[0;34m)\u001b[0m\u001b[0;34m\u001b[0m\u001b[0;34m\u001b[0m\u001b[0m\n\u001b[0m\u001b[1;32m    568\u001b[0m         \u001b[0;32mexcept\u001b[0m \u001b[0mCfTimeoutError\u001b[0m \u001b[0;32mas\u001b[0m \u001b[0me\u001b[0m\u001b[0;34m:\u001b[0m\u001b[0;34m\u001b[0m\u001b[0;34m\u001b[0m\u001b[0m\n\u001b[1;32m    569\u001b[0m             \u001b[0;32mraise\u001b[0m \u001b[0mTimeoutError\u001b[0m \u001b[0;32mfrom\u001b[0m \u001b[0me\u001b[0m\u001b[0;34m\u001b[0m\u001b[0;34m\u001b[0m\u001b[0m\n",
      "\u001b[0;32m~/anaconda3/lib/python3.9/concurrent/futures/_base.py\u001b[0m in \u001b[0;36mresult\u001b[0;34m(self, timeout)\u001b[0m\n\u001b[1;32m    439\u001b[0m                     \u001b[0;32mreturn\u001b[0m \u001b[0mself\u001b[0m\u001b[0;34m.\u001b[0m\u001b[0m__get_result\u001b[0m\u001b[0;34m(\u001b[0m\u001b[0;34m)\u001b[0m\u001b[0;34m\u001b[0m\u001b[0;34m\u001b[0m\u001b[0m\n\u001b[1;32m    440\u001b[0m \u001b[0;34m\u001b[0m\u001b[0m\n\u001b[0;32m--> 441\u001b[0;31m                 \u001b[0mself\u001b[0m\u001b[0;34m.\u001b[0m\u001b[0m_condition\u001b[0m\u001b[0;34m.\u001b[0m\u001b[0mwait\u001b[0m\u001b[0;34m(\u001b[0m\u001b[0mtimeout\u001b[0m\u001b[0;34m)\u001b[0m\u001b[0;34m\u001b[0m\u001b[0;34m\u001b[0m\u001b[0m\n\u001b[0m\u001b[1;32m    442\u001b[0m \u001b[0;34m\u001b[0m\u001b[0m\n\u001b[1;32m    443\u001b[0m                 \u001b[0;32mif\u001b[0m \u001b[0mself\u001b[0m\u001b[0;34m.\u001b[0m\u001b[0m_state\u001b[0m \u001b[0;32min\u001b[0m \u001b[0;34m[\u001b[0m\u001b[0mCANCELLED\u001b[0m\u001b[0;34m,\u001b[0m \u001b[0mCANCELLED_AND_NOTIFIED\u001b[0m\u001b[0;34m]\u001b[0m\u001b[0;34m:\u001b[0m\u001b[0;34m\u001b[0m\u001b[0;34m\u001b[0m\u001b[0m\n",
      "\u001b[0;32m~/anaconda3/lib/python3.9/threading.py\u001b[0m in \u001b[0;36mwait\u001b[0;34m(self, timeout)\u001b[0m\n\u001b[1;32m    310\u001b[0m         \u001b[0;32mtry\u001b[0m\u001b[0;34m:\u001b[0m    \u001b[0;31m# restore state no matter what (e.g., KeyboardInterrupt)\u001b[0m\u001b[0;34m\u001b[0m\u001b[0;34m\u001b[0m\u001b[0m\n\u001b[1;32m    311\u001b[0m             \u001b[0;32mif\u001b[0m \u001b[0mtimeout\u001b[0m \u001b[0;32mis\u001b[0m \u001b[0;32mNone\u001b[0m\u001b[0;34m:\u001b[0m\u001b[0;34m\u001b[0m\u001b[0;34m\u001b[0m\u001b[0m\n\u001b[0;32m--> 312\u001b[0;31m                 \u001b[0mwaiter\u001b[0m\u001b[0;34m.\u001b[0m\u001b[0macquire\u001b[0m\u001b[0;34m(\u001b[0m\u001b[0;34m)\u001b[0m\u001b[0;34m\u001b[0m\u001b[0;34m\u001b[0m\u001b[0m\n\u001b[0m\u001b[1;32m    313\u001b[0m                 \u001b[0mgotit\u001b[0m \u001b[0;34m=\u001b[0m \u001b[0;32mTrue\u001b[0m\u001b[0;34m\u001b[0m\u001b[0;34m\u001b[0m\u001b[0m\n\u001b[1;32m    314\u001b[0m             \u001b[0;32melse\u001b[0m\u001b[0;34m:\u001b[0m\u001b[0;34m\u001b[0m\u001b[0;34m\u001b[0m\u001b[0m\n",
      "\u001b[0;31mKeyboardInterrupt\u001b[0m: "
     ]
    }
   ],
   "source": [
    "reg.fit(X_train, y_train)"
   ]
  },
  {
   "cell_type": "code",
   "execution_count": 24,
   "id": "f49a9ef2",
   "metadata": {},
   "outputs": [
    {
     "name": "stdout",
     "output_type": "stream",
     "text": [
      "Fitting 5 folds for each of 60 candidates, totalling 300 fits\n"
     ]
    },
    {
     "ename": "KeyboardInterrupt",
     "evalue": "",
     "output_type": "error",
     "traceback": [
      "\u001b[0;31m---------------------------------------------------------------------------\u001b[0m",
      "\u001b[0;31mKeyboardInterrupt\u001b[0m                         Traceback (most recent call last)",
      "\u001b[0;32m/var/folders/9c/hg99j16578569gfzb3w5bzdh0000gn/T/ipykernel_2344/2412499885.py\u001b[0m in \u001b[0;36m<module>\u001b[0;34m\u001b[0m\n\u001b[0;32m----> 1\u001b[0;31m \u001b[0mreg\u001b[0m\u001b[0;34m.\u001b[0m\u001b[0mfit\u001b[0m\u001b[0;34m(\u001b[0m\u001b[0mX_train\u001b[0m\u001b[0;34m,\u001b[0m \u001b[0my_train\u001b[0m\u001b[0;34m)\u001b[0m\u001b[0;34m\u001b[0m\u001b[0;34m\u001b[0m\u001b[0m\n\u001b[0m",
      "\u001b[0;32m~/anaconda3/lib/python3.9/site-packages/sklearn/model_selection/_search.py\u001b[0m in \u001b[0;36mfit\u001b[0;34m(self, X, y, groups, **fit_params)\u001b[0m\n\u001b[1;32m    873\u001b[0m                 \u001b[0;32mreturn\u001b[0m \u001b[0mresults\u001b[0m\u001b[0;34m\u001b[0m\u001b[0;34m\u001b[0m\u001b[0m\n\u001b[1;32m    874\u001b[0m \u001b[0;34m\u001b[0m\u001b[0m\n\u001b[0;32m--> 875\u001b[0;31m             \u001b[0mself\u001b[0m\u001b[0;34m.\u001b[0m\u001b[0m_run_search\u001b[0m\u001b[0;34m(\u001b[0m\u001b[0mevaluate_candidates\u001b[0m\u001b[0;34m)\u001b[0m\u001b[0;34m\u001b[0m\u001b[0;34m\u001b[0m\u001b[0m\n\u001b[0m\u001b[1;32m    876\u001b[0m \u001b[0;34m\u001b[0m\u001b[0m\n\u001b[1;32m    877\u001b[0m             \u001b[0;31m# multimetric is determined here because in the case of a callable\u001b[0m\u001b[0;34m\u001b[0m\u001b[0;34m\u001b[0m\u001b[0m\n",
      "\u001b[0;32m~/anaconda3/lib/python3.9/site-packages/sklearn/model_selection/_search.py\u001b[0m in \u001b[0;36m_run_search\u001b[0;34m(self, evaluate_candidates)\u001b[0m\n\u001b[1;32m   1373\u001b[0m     \u001b[0;32mdef\u001b[0m \u001b[0m_run_search\u001b[0m\u001b[0;34m(\u001b[0m\u001b[0mself\u001b[0m\u001b[0;34m,\u001b[0m \u001b[0mevaluate_candidates\u001b[0m\u001b[0;34m)\u001b[0m\u001b[0;34m:\u001b[0m\u001b[0;34m\u001b[0m\u001b[0;34m\u001b[0m\u001b[0m\n\u001b[1;32m   1374\u001b[0m         \u001b[0;34m\"\"\"Search all candidates in param_grid\"\"\"\u001b[0m\u001b[0;34m\u001b[0m\u001b[0;34m\u001b[0m\u001b[0m\n\u001b[0;32m-> 1375\u001b[0;31m         \u001b[0mevaluate_candidates\u001b[0m\u001b[0;34m(\u001b[0m\u001b[0mParameterGrid\u001b[0m\u001b[0;34m(\u001b[0m\u001b[0mself\u001b[0m\u001b[0;34m.\u001b[0m\u001b[0mparam_grid\u001b[0m\u001b[0;34m)\u001b[0m\u001b[0;34m)\u001b[0m\u001b[0;34m\u001b[0m\u001b[0;34m\u001b[0m\u001b[0m\n\u001b[0m\u001b[1;32m   1376\u001b[0m \u001b[0;34m\u001b[0m\u001b[0m\n\u001b[1;32m   1377\u001b[0m \u001b[0;34m\u001b[0m\u001b[0m\n",
      "\u001b[0;32m~/anaconda3/lib/python3.9/site-packages/sklearn/model_selection/_search.py\u001b[0m in \u001b[0;36mevaluate_candidates\u001b[0;34m(candidate_params, cv, more_results)\u001b[0m\n\u001b[1;32m    820\u001b[0m                     )\n\u001b[1;32m    821\u001b[0m \u001b[0;34m\u001b[0m\u001b[0m\n\u001b[0;32m--> 822\u001b[0;31m                 out = parallel(\n\u001b[0m\u001b[1;32m    823\u001b[0m                     delayed(_fit_and_score)(\n\u001b[1;32m    824\u001b[0m                         \u001b[0mclone\u001b[0m\u001b[0;34m(\u001b[0m\u001b[0mbase_estimator\u001b[0m\u001b[0;34m)\u001b[0m\u001b[0;34m,\u001b[0m\u001b[0;34m\u001b[0m\u001b[0;34m\u001b[0m\u001b[0m\n",
      "\u001b[0;32m~/anaconda3/lib/python3.9/site-packages/joblib/parallel.py\u001b[0m in \u001b[0;36m__call__\u001b[0;34m(self, iterable)\u001b[0m\n\u001b[1;32m   1096\u001b[0m \u001b[0;34m\u001b[0m\u001b[0m\n\u001b[1;32m   1097\u001b[0m             \u001b[0;32mwith\u001b[0m \u001b[0mself\u001b[0m\u001b[0;34m.\u001b[0m\u001b[0m_backend\u001b[0m\u001b[0;34m.\u001b[0m\u001b[0mretrieval_context\u001b[0m\u001b[0;34m(\u001b[0m\u001b[0;34m)\u001b[0m\u001b[0;34m:\u001b[0m\u001b[0;34m\u001b[0m\u001b[0;34m\u001b[0m\u001b[0m\n\u001b[0;32m-> 1098\u001b[0;31m                 \u001b[0mself\u001b[0m\u001b[0;34m.\u001b[0m\u001b[0mretrieve\u001b[0m\u001b[0;34m(\u001b[0m\u001b[0;34m)\u001b[0m\u001b[0;34m\u001b[0m\u001b[0;34m\u001b[0m\u001b[0m\n\u001b[0m\u001b[1;32m   1099\u001b[0m             \u001b[0;31m# Make sure that we get a last message telling us we are done\u001b[0m\u001b[0;34m\u001b[0m\u001b[0;34m\u001b[0m\u001b[0m\n\u001b[1;32m   1100\u001b[0m             \u001b[0melapsed_time\u001b[0m \u001b[0;34m=\u001b[0m \u001b[0mtime\u001b[0m\u001b[0;34m.\u001b[0m\u001b[0mtime\u001b[0m\u001b[0;34m(\u001b[0m\u001b[0;34m)\u001b[0m \u001b[0;34m-\u001b[0m \u001b[0mself\u001b[0m\u001b[0;34m.\u001b[0m\u001b[0m_start_time\u001b[0m\u001b[0;34m\u001b[0m\u001b[0;34m\u001b[0m\u001b[0m\n",
      "\u001b[0;32m~/anaconda3/lib/python3.9/site-packages/joblib/parallel.py\u001b[0m in \u001b[0;36mretrieve\u001b[0;34m(self)\u001b[0m\n\u001b[1;32m    973\u001b[0m             \u001b[0;32mtry\u001b[0m\u001b[0;34m:\u001b[0m\u001b[0;34m\u001b[0m\u001b[0;34m\u001b[0m\u001b[0m\n\u001b[1;32m    974\u001b[0m                 \u001b[0;32mif\u001b[0m \u001b[0mgetattr\u001b[0m\u001b[0;34m(\u001b[0m\u001b[0mself\u001b[0m\u001b[0;34m.\u001b[0m\u001b[0m_backend\u001b[0m\u001b[0;34m,\u001b[0m \u001b[0;34m'supports_timeout'\u001b[0m\u001b[0;34m,\u001b[0m \u001b[0;32mFalse\u001b[0m\u001b[0;34m)\u001b[0m\u001b[0;34m:\u001b[0m\u001b[0;34m\u001b[0m\u001b[0;34m\u001b[0m\u001b[0m\n\u001b[0;32m--> 975\u001b[0;31m                     \u001b[0mself\u001b[0m\u001b[0;34m.\u001b[0m\u001b[0m_output\u001b[0m\u001b[0;34m.\u001b[0m\u001b[0mextend\u001b[0m\u001b[0;34m(\u001b[0m\u001b[0mjob\u001b[0m\u001b[0;34m.\u001b[0m\u001b[0mget\u001b[0m\u001b[0;34m(\u001b[0m\u001b[0mtimeout\u001b[0m\u001b[0;34m=\u001b[0m\u001b[0mself\u001b[0m\u001b[0;34m.\u001b[0m\u001b[0mtimeout\u001b[0m\u001b[0;34m)\u001b[0m\u001b[0;34m)\u001b[0m\u001b[0;34m\u001b[0m\u001b[0;34m\u001b[0m\u001b[0m\n\u001b[0m\u001b[1;32m    976\u001b[0m                 \u001b[0;32melse\u001b[0m\u001b[0;34m:\u001b[0m\u001b[0;34m\u001b[0m\u001b[0;34m\u001b[0m\u001b[0m\n\u001b[1;32m    977\u001b[0m                     \u001b[0mself\u001b[0m\u001b[0;34m.\u001b[0m\u001b[0m_output\u001b[0m\u001b[0;34m.\u001b[0m\u001b[0mextend\u001b[0m\u001b[0;34m(\u001b[0m\u001b[0mjob\u001b[0m\u001b[0;34m.\u001b[0m\u001b[0mget\u001b[0m\u001b[0;34m(\u001b[0m\u001b[0;34m)\u001b[0m\u001b[0;34m)\u001b[0m\u001b[0;34m\u001b[0m\u001b[0;34m\u001b[0m\u001b[0m\n",
      "\u001b[0;32m~/anaconda3/lib/python3.9/site-packages/joblib/_parallel_backends.py\u001b[0m in \u001b[0;36mwrap_future_result\u001b[0;34m(future, timeout)\u001b[0m\n\u001b[1;32m    565\u001b[0m         AsyncResults.get from multiprocessing.\"\"\"\n\u001b[1;32m    566\u001b[0m         \u001b[0;32mtry\u001b[0m\u001b[0;34m:\u001b[0m\u001b[0;34m\u001b[0m\u001b[0;34m\u001b[0m\u001b[0m\n\u001b[0;32m--> 567\u001b[0;31m             \u001b[0;32mreturn\u001b[0m \u001b[0mfuture\u001b[0m\u001b[0;34m.\u001b[0m\u001b[0mresult\u001b[0m\u001b[0;34m(\u001b[0m\u001b[0mtimeout\u001b[0m\u001b[0;34m=\u001b[0m\u001b[0mtimeout\u001b[0m\u001b[0;34m)\u001b[0m\u001b[0;34m\u001b[0m\u001b[0;34m\u001b[0m\u001b[0m\n\u001b[0m\u001b[1;32m    568\u001b[0m         \u001b[0;32mexcept\u001b[0m \u001b[0mCfTimeoutError\u001b[0m \u001b[0;32mas\u001b[0m \u001b[0me\u001b[0m\u001b[0;34m:\u001b[0m\u001b[0;34m\u001b[0m\u001b[0;34m\u001b[0m\u001b[0m\n\u001b[1;32m    569\u001b[0m             \u001b[0;32mraise\u001b[0m \u001b[0mTimeoutError\u001b[0m \u001b[0;32mfrom\u001b[0m \u001b[0me\u001b[0m\u001b[0;34m\u001b[0m\u001b[0;34m\u001b[0m\u001b[0m\n",
      "\u001b[0;32m~/anaconda3/lib/python3.9/concurrent/futures/_base.py\u001b[0m in \u001b[0;36mresult\u001b[0;34m(self, timeout)\u001b[0m\n\u001b[1;32m    439\u001b[0m                     \u001b[0;32mreturn\u001b[0m \u001b[0mself\u001b[0m\u001b[0;34m.\u001b[0m\u001b[0m__get_result\u001b[0m\u001b[0;34m(\u001b[0m\u001b[0;34m)\u001b[0m\u001b[0;34m\u001b[0m\u001b[0;34m\u001b[0m\u001b[0m\n\u001b[1;32m    440\u001b[0m \u001b[0;34m\u001b[0m\u001b[0m\n\u001b[0;32m--> 441\u001b[0;31m                 \u001b[0mself\u001b[0m\u001b[0;34m.\u001b[0m\u001b[0m_condition\u001b[0m\u001b[0;34m.\u001b[0m\u001b[0mwait\u001b[0m\u001b[0;34m(\u001b[0m\u001b[0mtimeout\u001b[0m\u001b[0;34m)\u001b[0m\u001b[0;34m\u001b[0m\u001b[0;34m\u001b[0m\u001b[0m\n\u001b[0m\u001b[1;32m    442\u001b[0m \u001b[0;34m\u001b[0m\u001b[0m\n\u001b[1;32m    443\u001b[0m                 \u001b[0;32mif\u001b[0m \u001b[0mself\u001b[0m\u001b[0;34m.\u001b[0m\u001b[0m_state\u001b[0m \u001b[0;32min\u001b[0m \u001b[0;34m[\u001b[0m\u001b[0mCANCELLED\u001b[0m\u001b[0;34m,\u001b[0m \u001b[0mCANCELLED_AND_NOTIFIED\u001b[0m\u001b[0;34m]\u001b[0m\u001b[0;34m:\u001b[0m\u001b[0;34m\u001b[0m\u001b[0;34m\u001b[0m\u001b[0m\n",
      "\u001b[0;32m~/anaconda3/lib/python3.9/threading.py\u001b[0m in \u001b[0;36mwait\u001b[0;34m(self, timeout)\u001b[0m\n\u001b[1;32m    310\u001b[0m         \u001b[0;32mtry\u001b[0m\u001b[0;34m:\u001b[0m    \u001b[0;31m# restore state no matter what (e.g., KeyboardInterrupt)\u001b[0m\u001b[0;34m\u001b[0m\u001b[0;34m\u001b[0m\u001b[0m\n\u001b[1;32m    311\u001b[0m             \u001b[0;32mif\u001b[0m \u001b[0mtimeout\u001b[0m \u001b[0;32mis\u001b[0m \u001b[0;32mNone\u001b[0m\u001b[0;34m:\u001b[0m\u001b[0;34m\u001b[0m\u001b[0;34m\u001b[0m\u001b[0m\n\u001b[0;32m--> 312\u001b[0;31m                 \u001b[0mwaiter\u001b[0m\u001b[0;34m.\u001b[0m\u001b[0macquire\u001b[0m\u001b[0;34m(\u001b[0m\u001b[0;34m)\u001b[0m\u001b[0;34m\u001b[0m\u001b[0;34m\u001b[0m\u001b[0m\n\u001b[0m\u001b[1;32m    313\u001b[0m                 \u001b[0mgotit\u001b[0m \u001b[0;34m=\u001b[0m \u001b[0;32mTrue\u001b[0m\u001b[0;34m\u001b[0m\u001b[0;34m\u001b[0m\u001b[0m\n\u001b[1;32m    314\u001b[0m             \u001b[0;32melse\u001b[0m\u001b[0;34m:\u001b[0m\u001b[0;34m\u001b[0m\u001b[0;34m\u001b[0m\u001b[0m\n",
      "\u001b[0;31mKeyboardInterrupt\u001b[0m: "
     ]
    }
   ],
   "source": [
    "reg.fit(X_train, y_train)"
   ]
  }
 ],
 "metadata": {
  "kernelspec": {
   "display_name": "Python 3.9 (pytorch)",
   "language": "python",
   "name": "pytorch"
  },
  "language_info": {
   "codemirror_mode": {
    "name": "ipython",
    "version": 3
   },
   "file_extension": ".py",
   "mimetype": "text/x-python",
   "name": "python",
   "nbconvert_exporter": "python",
   "pygments_lexer": "ipython3",
   "version": "3.9.13"
  },
  "toc": {
   "base_numbering": 1,
   "nav_menu": {},
   "number_sections": true,
   "sideBar": true,
   "skip_h1_title": false,
   "title_cell": "Table of Contents",
   "title_sidebar": "Contents",
   "toc_cell": false,
   "toc_position": {},
   "toc_section_display": true,
   "toc_window_display": false
  }
 },
 "nbformat": 4,
 "nbformat_minor": 5
}
